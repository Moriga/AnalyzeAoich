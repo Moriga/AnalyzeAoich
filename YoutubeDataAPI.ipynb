{
 "cells": [
  {
   "cell_type": "code",
   "execution_count": null,
   "metadata": {
    "scrolled": true
   },
   "outputs": [],
   "source": [
    "# 必要なライブラリのインストール\n",
    "# !pip install google-api-python-client"
   ]
  },
  {
   "cell_type": "code",
   "execution_count": null,
   "metadata": {},
   "outputs": [],
   "source": [
    "import pandas as pd\n",
    "from googleapiclient.discovery import build"
   ]
  },
  {
   "cell_type": "code",
   "execution_count": null,
   "metadata": {},
   "outputs": [],
   "source": [
    "# Google の生成した API キー\n",
    "API_KEY = '*********************'\n",
    "\n",
    "# Aoi ch. の チャンネルID\n",
    "ch_id = 'UC3Ruo_5doyu514PesWGvCAg'\n",
    "\n",
    "# part\n",
    "part='snippet'"
   ]
  },
  {
   "cell_type": "markdown",
   "metadata": {},
   "source": [
    "# API\n",
    "https://googleapis.github.io/google-api-python-client/docs/dyn/youtube_v3.html"
   ]
  },
  {
   "cell_type": "code",
   "execution_count": null,
   "metadata": {},
   "outputs": [],
   "source": [
    "# youtube オブジェクトを作成する\n",
    "youtube = build('youtube', 'v3', developerKey=API_KEY)"
   ]
  },
  {
   "cell_type": "code",
   "execution_count": null,
   "metadata": {},
   "outputs": [],
   "source": [
    "def get_video_info(part, ch_id, order='viewCount', max_results='50'):\n",
    "    \"\"\"\n",
    "    チャンネルに属する動画を全量取得します。\n",
    "    \n",
    "    part: \n",
    "    ch_id: チャンネルの固有ID\n",
    "    order: 動画を取得する際のソート方法\n",
    "    max_result: 1回の問い合わせで取得する動画の本数。上限は \"50\" です。\n",
    "    \"\"\"\n",
    "    dic_list = []\n",
    "    search_response = youtube.search().list(part=part,channelId=ch_id, order=order, maxResults=max_results)\n",
    "    output = youtube.search().list(part=part,channelId=ch_id, order=order, maxResults=max_results).execute()\n",
    "\n",
    "    # データを取得しきるまでループします。\n",
    "    # あまりにも量が多い場合、途中でAPIの実行上限に引っかかるので注意が必要です。\n",
    "    # 動画数500本程度であれば余裕で取得できました。\n",
    "    while True:\n",
    "        dic_list = dic_list + output['items']\n",
    "        search_response = youtube.search().list_next(search_response, output)\n",
    "        if search_response is None:\n",
    "            break\n",
    "        output = search_response.execute()\n",
    "\n",
    "    df = pd.DataFrame(dic_list)\n",
    "    #各動画毎に一意のvideoIdを取得\n",
    "    df1 = pd.DataFrame(list(df['id']))['videoId']\n",
    "    #各動画毎に一意のvideoIdを取得必要な動画情報だけ取得\n",
    "    df2 = pd.DataFrame(list(df['snippet']))[['channelTitle','publishedAt','channelId','title','description']]\n",
    "    ddf = pd.concat([df1,df2], axis = 1)\n",
    "\n",
    "    return ddf"
   ]
  },
  {
   "cell_type": "code",
   "execution_count": null,
   "metadata": {},
   "outputs": [],
   "source": [
    "# 動画全量のID等を取得します\n",
    "df = get_video_info('snippet', ch_id)\n",
    "df"
   ]
  },
  {
   "cell_type": "code",
   "execution_count": null,
   "metadata": {},
   "outputs": [],
   "source": [
    "# API の上限に引っかかった場合を考慮し、一度取得できたデータを csv に出力しています\n",
    "import csv\n",
    "df.to_csv('出力パス', encoding='utf8', quoting=csv.QUOTE_ALL, index=False)"
   ]
  },
  {
   "cell_type": "code",
   "execution_count": null,
   "metadata": {},
   "outputs": [],
   "source": [
    "# チャンネル概要など、動画とは関係ない情報が取れてしまうので、除外します\n",
    "df = df.dropna(subset=['videoId']).reset_index()"
   ]
  },
  {
   "cell_type": "code",
   "execution_count": null,
   "metadata": {},
   "outputs": [],
   "source": [
    "def get_statistics(id):\n",
    "    \"\"\"\n",
    "    videoId に紐付いた動画の再生回数や高評価数などのデータを取得します。\n",
    "    \n",
    "    id: videoId\n",
    "    \"\"\"\n",
    "    statistics = youtube.videos().list(part = 'statistics', id = id).execute()['items'][0]['statistics']\n",
    "    return statistics"
   ]
  },
  {
   "cell_type": "code",
   "execution_count": null,
   "metadata": {},
   "outputs": [],
   "source": [
    "# 動画の詳細情報を取得します\n",
    "df_static = pd.DataFrame(list(df['videoId'].apply(lambda x : get_statistics(x))))\n",
    "df_output = pd.concat([df,df_static], axis = 1)\n",
    "df_output"
   ]
  },
  {
   "cell_type": "code",
   "execution_count": null,
   "metadata": {},
   "outputs": [],
   "source": [
    "df_output.to_csv('出力パス', encoding='utf8', quoting=csv.QUOTE_ALL, index=False)"
   ]
  }
 ],
 "metadata": {
  "kernelspec": {
   "display_name": "Python 3",
   "language": "python",
   "name": "python3"
  },
  "language_info": {
   "codemirror_mode": {
    "name": "ipython",
    "version": 3
   },
   "file_extension": ".py",
   "mimetype": "text/x-python",
   "name": "python",
   "nbconvert_exporter": "python",
   "pygments_lexer": "ipython3",
   "version": "3.8.3"
  }
 },
 "nbformat": 4,
 "nbformat_minor": 4
}
